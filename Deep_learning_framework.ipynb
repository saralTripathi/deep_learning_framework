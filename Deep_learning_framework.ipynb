{
  "nbformat": 4,
  "nbformat_minor": 0,
  "metadata": {
    "colab": {
      "provenance": []
    },
    "kernelspec": {
      "name": "python3",
      "display_name": "Python 3"
    },
    "language_info": {
      "name": "python"
    }
  },
  "cells": [
    {
      "cell_type": "markdown",
      "source": [
        "1. What is TensorFlow 2.0, and how is it different from TensorFlow 1.x?\n",
        "\n",
        "   -  TensorFlow 2.0 is a major upgrade of TensorFlow, released by Google to simplify machine learning model building and make development faster and more user-friendly. It is significantly different from TensorFlow 1.x in design philosophy, API structure, and ease of use.\n",
        "   - TensorFlow 2.0 is an open-source machine learning framework designed to support:\n",
        "      -  Eager execution (imperative programming style)\n",
        "      -  Keras as the central high-level API\n",
        "      - Simplified APIs for building and training models\n",
        "      - More intuitive debugging and deployment.\n",
        "2.  How do you install TensorFlow 2.0?\n",
        "    -  To install TensorFlow 2.0 (or any 2.x version), you can use pip, Python’s package manager.\n",
        "    - #pip install tensorflow\n",
        "3. What is the primary function of the tf.function in TensorFlow 2.0?\n",
        "   -  The primary function of tf.function in TensorFlow 2.0 is to convert a Python function into a TensorFlow graph for faster execution and optimization.\n",
        "   - Improve performance by compiling the function into a static graph\n",
        "   - Enable optimizations like operation fusion, parallel execution, etc.\n",
        "   - Export models easily for deployment (e.g., TensorFlow Lite, TensorFlow Serving).\n",
        "4. What is the purpose of the Model class in TensorFlow 2.0?\n",
        "  -  In TensorFlow 2.0, the Model class (from tf.keras.Model) serves as the base class for building machine learning models. It is part of the tf.keras API and provides the core functionality needed to define, train, evaluate, and save neural network models.\n",
        "  - The Model class is used to:\n",
        "      - Group layers together into an object\n",
        "      - Define forward pass logic\n",
        "      - Support training and evaluation with built-in methods\n",
        "      - Enable model saving, loading, and exporting\n",
        "      - Support subclassing for custom architectures\n",
        "5. How do you create a neural network using TensorFlow 2.0?\n",
        "  \n",
        "\n"
      ],
      "metadata": {
        "id": "z20zZY6ntcr3"
      }
    },
    {
      "cell_type": "code",
      "execution_count": 1,
      "metadata": {
        "colab": {
          "base_uri": "https://localhost:8080/"
        },
        "id": "sBxmErpWtWDf",
        "outputId": "ce476dd6-ca3c-41a7-b9ef-647946f31da6"
      },
      "outputs": [
        {
          "output_type": "stream",
          "name": "stdout",
          "text": [
            "Downloading data from https://storage.googleapis.com/tensorflow/tf-keras-datasets/mnist.npz\n",
            "\u001b[1m11490434/11490434\u001b[0m \u001b[32m━━━━━━━━━━━━━━━━━━━━\u001b[0m\u001b[37m\u001b[0m \u001b[1m0s\u001b[0m 0us/step\n"
          ]
        }
      ],
      "source": [
        "import tensorflow as tf\n",
        "from tensorflow.keras import layers, models\n",
        "mnist = tf.keras.datasets.mnist\n",
        "(x_train, y_train), (x_test, y_test) = mnist.load_data()\n",
        "\n",
        "\n",
        "x_train, x_test = x_train / 255.0, x_test / 255.0\n",
        "\n",
        "#creating neural network\n",
        "\n",
        "model = tf.keras.Sequential([\n",
        "    layers.Flatten(input_shape=(28, 28)),\n",
        "    layers.Dense(128, activation='relu'),\n",
        "    layers.Dropout(0.2),\n",
        "    layers.Dense(10)\n",
        "])\n"
      ]
    },
    {
      "cell_type": "markdown",
      "source": [
        "6. What is the importance of Tensor Space in TensorFlow?\n",
        "   -  In TensorFlow 2, the concept of tensor space is foundational. While \"tensor space\" is not an official TensorFlow term, it generally refers to the mathematical space that tensors (multi-dimensional arrays) occupy and operate in.\n",
        "   - Tensor space is the computational universe of TensorFlow — it defines how data is stored, moved, and transformed during training and inference.\n",
        "7. How can TensorBoard be integrated with TensorFlow 2.0?\n",
        "   - TensorBoard can be easily integrated with TensorFlow 2.0 to visualize training metrics, model graphs, histograms, and more. It is a powerful debugging and performance tracking tool.\n",
        "   - TensorBoard is the visualization toolkit for TensorFlow.\n",
        "   - Track training loss & accuracy\n",
        "   - Visualize the computational graph\n",
        "   - Inspect weights, histograms, and distributions\n",
        "   - View images, embeddings, and more\n",
        "8. What is the purpose of TensorFlow Playground?\n",
        "   - TensorFlow Playground is an interactive web-based visualization tool that helps users understand how neural networks learn and make predictions. It is primarily aimed at educational purposes and intuitive experimentation, especially for beginners.\n",
        "   - It's not for real ML development, but it's a fantastic starting point to build intuition before working in actual TensorFlow code.\n",
        "\n",
        "\n",
        "9. What is Netron, and how is it useful for deep learning models?\n",
        "   - Netron is a visualizer for deep learning and machine learning models. It's an open-source tool that lets you view the structure and layers of a trained model in a clear, interactive graphical format.\n",
        "10. What is the difference between TensorFlow and PyTorch?\n",
        "    - TensorFlow 2.x:\n",
        "        - Eager execution by default; also supports static graphs with @tf.function.\n",
        "        - Uses tf.keras API (Sequential, Functional, or subclassing).\n",
        "        - High-level .fit() or custom training loops with GradientTape.\n",
        "        - Backed by Google.\n",
        "        - More complex for beginners.\n",
        "\n",
        "    - PyTorch:\n",
        "        - Eager execution only (dynamic and intuitive)\n",
        "        - torch.nn.Module and subclassing.\n",
        "        - Fully manual training loops using autograd.\n",
        "        - More control and flexibility for research.\n",
        "        - Backed by Facebook (Meta).\n",
        "        - Simpler and more beginner-friendly.\n",
        "11. How do you install PyTorch?\n",
        "    - You can install PyTorch 2.x using pip or conda, depending on your system and whether you want CPU or GPU support.\n",
        "12. What is the basic structure of a PyTorch neural network?\n",
        "    - In PyTorch, neural networks are created by subclassing torch.nn.Module and defining the layers and forward pass logic.\n",
        "    - Import Libraries\n",
        "    - Define Model Class (inherits nn.Module)\n",
        "    - Initialize Layers in __init__()\n",
        "    - Define Forward Pass in forward()\n",
        "    - Instantiate Model, Define Loss and Optimizer\n",
        "    - Train in Loop\n",
        "13. What is the significance of tensors in PyTorch?\n",
        "    - In PyTorch, tensors are the fundamental building blocks for all computations. Everything—from input data, model parameters, to gradients—is represented as a tensor.\n",
        "    - Tensors are to PyTorch what atoms are to matter — everything is built on top of them. Without tensors, there is no PyTorch!\n",
        "14. What is the difference between torch.Tensor and torch.cuda.Tensor in PyTorch?\n",
        "    - In PyTorch, both torch.Tensor and torch.cuda.Tensor refer to tensor objects, but they differ in where the data is stored and processed:\n",
        "    - 1. torch.Tensor (Default):\n",
        "         - Stored in CPU memory\n",
        "         - Operations are done on the CPU\n",
        "         - Created by default when you use torch.tensor() or torch.Tensor()\n",
        "    - 2. torch.cuda.Tensor:\n",
        "         - Stored in GPU memory\n",
        "         - Computations are performed on the GPU, making them much faster for large-scale models\n",
        "         - Created by sending a tensor to a CUDA device:\n",
        "15. What is the purpose of the torch.optim module in PyTorch?\n",
        "    - The torch.optim module provides optimization algorithms (also called optimizers) used to train neural networks by updating model parameters to minimize the loss function.\n",
        "    - To adjust the weights of the model during training using gradient descent-based optimization techniques.\n",
        "16. What are some common activation functions used in neural networks?\n",
        "    - Activation functions introduce non-linearity into the network, allowing it to learn complex patterns beyond just linear relationships.\n",
        "    - 1.ReLU (Rectified Linear Unit)\n",
        "    - 2.Sigmoid\n",
        "    - 3.Tanh (Hyperbolic Tangent)\n",
        "    - 4.Leaky ReLU\n",
        "    - 5.ELU (Exponential Linear Unit)\n",
        "    - 6. Softmax\n",
        "    - 7.Swish\n",
        "17. What is the difference between torch.nn.Module and torch.nn.Sequential in PyTorch?\n",
        "    - Both torch.nn.Module and torch.nn.Sequential are used to define neural networks in PyTorch, but they serve different purposes and offer different levels of flexibility.\n",
        "    - 1. torch.nn.Module — Full Customization:\n",
        "         - The base class for all models in PyTorch.\n",
        "         - You subclass it to define custom models, layers, and forward logic.\n",
        "         - use when:You need custom forward passes,Models with branches, loops, or conditional logic,Greater flexibility and control over computation\n",
        "   - 2. torch.nn.Sequential — Simpler, Layer-by-Layer Stack:\n",
        "         - A container to define models as a sequence of layers\n",
        "         - No need to define a forward() method\n",
        "         - Use When: Your model is a simple feedforward network,Layers are applied one after another, in a fixed order\n",
        "18. How can you monitor training progress in TensorFlow 2.0?\n",
        "    - In TensorFlow 2.0, you can easily track training performance (loss, accuracy, etc.) using built-in tools like callbacks and TensorBoard.\n",
        "19. How does the Keras API fit into TensorFlow 2.0?\n",
        "    - In TensorFlow 2.0, Keras is the official high-level API used for building and training neural networks. It's fully integrated into TensorFlow as tf.keras.\n",
        "20. What is an example of a deep learning project that can be implemented using TensorFlow 2.0?  \n",
        "    - Build and train a deep neural network to recognize handwritten digits (0–9) from images using the MNIST dataset, which contains 28x28 grayscale images.\n",
        "21. What is the main advantage of using pre-trained models in TensorFlow and PyTorch?\n",
        "    - They save time and resources by allowing you to reuse models trained on massive datasets, often with state-of-the-art performance, for your own tasks through transfer learning.\n",
        "    - Using pre-trained models is like standing on the shoulders of giants — you benefit from the training done by experts on huge datasets.\n",
        "\n",
        "\n",
        "\n"
      ],
      "metadata": {
        "id": "Zevmgh0qx8Mb"
      }
    },
    {
      "cell_type": "code",
      "source": [
        "#1. How do you install and verify that TensorFlow 2.0 was installed successfully.\n",
        "\n",
        "import tensorflow as tf\n",
        "print(tf.__version__)"
      ],
      "metadata": {
        "colab": {
          "base_uri": "https://localhost:8080/"
        },
        "id": "95D-orS3x7hd",
        "outputId": "219d3073-14be-4cdd-acae-b0c280720240"
      },
      "execution_count": 2,
      "outputs": [
        {
          "output_type": "stream",
          "name": "stdout",
          "text": [
            "2.18.0\n"
          ]
        }
      ]
    },
    {
      "cell_type": "code",
      "source": [
        "#2. How can you define a simple function in TensorFlow 2.0 to perform addition?\n",
        "import tensorflow as tf\n",
        "\n",
        "def add_numbers(a, b):\n",
        "    return a + b\n",
        "\n",
        "a = tf.constant(2)\n",
        "a = tf.cast(a,dtype = 'float32')\n",
        "b = tf.constant(3)\n",
        "b = tf.cast(b,dtype = 'float32')\n",
        "result = add_numbers(a, b)\n",
        "print(result)"
      ],
      "metadata": {
        "colab": {
          "base_uri": "https://localhost:8080/"
        },
        "id": "EBLe8ZWhx0Ma",
        "outputId": "fc61a741-60aa-495c-c763-1a45ab018a34"
      },
      "execution_count": 10,
      "outputs": [
        {
          "output_type": "stream",
          "name": "stdout",
          "text": [
            "tf.Tensor(5.0, shape=(), dtype=float32)\n"
          ]
        }
      ]
    },
    {
      "cell_type": "code",
      "source": [
        "#3. How can you create a simple neural network in TensorFlow 2.0 with one hidden layer?\n",
        "import tensorflow as tf\n",
        "from tensorflow.keras import layers, models, Input\n",
        "\n",
        "model = models.Sequential([\n",
        "    Input(shape=(784,)),\n",
        "    layers.Dense(128, activation='relu'),\n",
        "    layers.Dense(10, activation='softmax')\n",
        "])\n",
        "\n",
        "model.compile(optimizer='adam',\n",
        "              loss='sparse_categorical_crossentropy',\n",
        "              metrics=['accuracy'])\n",
        "\n",
        "model.summary()"
      ],
      "metadata": {
        "colab": {
          "base_uri": "https://localhost:8080/",
          "height": 197
        },
        "id": "d3wGZzNQ_zdZ",
        "outputId": "a4e9b760-aeda-4ac5-e399-275c00248ef0"
      },
      "execution_count": 9,
      "outputs": [
        {
          "output_type": "display_data",
          "data": {
            "text/plain": [
              "\u001b[1mModel: \"sequential\"\u001b[0m\n"
            ],
            "text/html": [
              "<pre style=\"white-space:pre;overflow-x:auto;line-height:normal;font-family:Menlo,'DejaVu Sans Mono',consolas,'Courier New',monospace\"><span style=\"font-weight: bold\">Model: \"sequential\"</span>\n",
              "</pre>\n"
            ]
          },
          "metadata": {}
        },
        {
          "output_type": "display_data",
          "data": {
            "text/plain": [
              "┏━━━━━━━━━━━━━━━━━━━━━━━━━━━━━━━━━┳━━━━━━━━━━━━━━━━━━━━━━━━┳━━━━━━━━━━━━━━━┓\n",
              "┃\u001b[1m \u001b[0m\u001b[1mLayer (type)                   \u001b[0m\u001b[1m \u001b[0m┃\u001b[1m \u001b[0m\u001b[1mOutput Shape          \u001b[0m\u001b[1m \u001b[0m┃\u001b[1m \u001b[0m\u001b[1m      Param #\u001b[0m\u001b[1m \u001b[0m┃\n",
              "┡━━━━━━━━━━━━━━━━━━━━━━━━━━━━━━━━━╇━━━━━━━━━━━━━━━━━━━━━━━━╇━━━━━━━━━━━━━━━┩\n",
              "│ dense (\u001b[38;5;33mDense\u001b[0m)                   │ (\u001b[38;5;45mNone\u001b[0m, \u001b[38;5;34m128\u001b[0m)            │       \u001b[38;5;34m100,480\u001b[0m │\n",
              "├─────────────────────────────────┼────────────────────────┼───────────────┤\n",
              "│ dense_1 (\u001b[38;5;33mDense\u001b[0m)                 │ (\u001b[38;5;45mNone\u001b[0m, \u001b[38;5;34m10\u001b[0m)             │         \u001b[38;5;34m1,290\u001b[0m │\n",
              "└─────────────────────────────────┴────────────────────────┴───────────────┘\n"
            ],
            "text/html": [
              "<pre style=\"white-space:pre;overflow-x:auto;line-height:normal;font-family:Menlo,'DejaVu Sans Mono',consolas,'Courier New',monospace\">┏━━━━━━━━━━━━━━━━━━━━━━━━━━━━━━━━━┳━━━━━━━━━━━━━━━━━━━━━━━━┳━━━━━━━━━━━━━━━┓\n",
              "┃<span style=\"font-weight: bold\"> Layer (type)                    </span>┃<span style=\"font-weight: bold\"> Output Shape           </span>┃<span style=\"font-weight: bold\">       Param # </span>┃\n",
              "┡━━━━━━━━━━━━━━━━━━━━━━━━━━━━━━━━━╇━━━━━━━━━━━━━━━━━━━━━━━━╇━━━━━━━━━━━━━━━┩\n",
              "│ dense (<span style=\"color: #0087ff; text-decoration-color: #0087ff\">Dense</span>)                   │ (<span style=\"color: #00d7ff; text-decoration-color: #00d7ff\">None</span>, <span style=\"color: #00af00; text-decoration-color: #00af00\">128</span>)            │       <span style=\"color: #00af00; text-decoration-color: #00af00\">100,480</span> │\n",
              "├─────────────────────────────────┼────────────────────────┼───────────────┤\n",
              "│ dense_1 (<span style=\"color: #0087ff; text-decoration-color: #0087ff\">Dense</span>)                 │ (<span style=\"color: #00d7ff; text-decoration-color: #00d7ff\">None</span>, <span style=\"color: #00af00; text-decoration-color: #00af00\">10</span>)             │         <span style=\"color: #00af00; text-decoration-color: #00af00\">1,290</span> │\n",
              "└─────────────────────────────────┴────────────────────────┴───────────────┘\n",
              "</pre>\n"
            ]
          },
          "metadata": {}
        },
        {
          "output_type": "display_data",
          "data": {
            "text/plain": [
              "\u001b[1m Total params: \u001b[0m\u001b[38;5;34m101,770\u001b[0m (397.54 KB)\n"
            ],
            "text/html": [
              "<pre style=\"white-space:pre;overflow-x:auto;line-height:normal;font-family:Menlo,'DejaVu Sans Mono',consolas,'Courier New',monospace\"><span style=\"font-weight: bold\"> Total params: </span><span style=\"color: #00af00; text-decoration-color: #00af00\">101,770</span> (397.54 KB)\n",
              "</pre>\n"
            ]
          },
          "metadata": {}
        },
        {
          "output_type": "display_data",
          "data": {
            "text/plain": [
              "\u001b[1m Trainable params: \u001b[0m\u001b[38;5;34m101,770\u001b[0m (397.54 KB)\n"
            ],
            "text/html": [
              "<pre style=\"white-space:pre;overflow-x:auto;line-height:normal;font-family:Menlo,'DejaVu Sans Mono',consolas,'Courier New',monospace\"><span style=\"font-weight: bold\"> Trainable params: </span><span style=\"color: #00af00; text-decoration-color: #00af00\">101,770</span> (397.54 KB)\n",
              "</pre>\n"
            ]
          },
          "metadata": {}
        },
        {
          "output_type": "display_data",
          "data": {
            "text/plain": [
              "\u001b[1m Non-trainable params: \u001b[0m\u001b[38;5;34m0\u001b[0m (0.00 B)\n"
            ],
            "text/html": [
              "<pre style=\"white-space:pre;overflow-x:auto;line-height:normal;font-family:Menlo,'DejaVu Sans Mono',consolas,'Courier New',monospace\"><span style=\"font-weight: bold\"> Non-trainable params: </span><span style=\"color: #00af00; text-decoration-color: #00af00\">0</span> (0.00 B)\n",
              "</pre>\n"
            ]
          },
          "metadata": {}
        }
      ]
    },
    {
      "cell_type": "code",
      "source": [
        "#4. How can you visualize the training progress using TensorFlow and Matplotlib?\n",
        "import tensorflow as tf\n",
        "import matplotlib.pyplot as plt\n",
        "\n",
        "class DummyHistory:\n",
        "    def __init__(self):\n",
        "        self.history = {\n",
        "            'loss': [0.5, 0.4, 0.3, 0.2, 0.1],\n",
        "            'accuracy': [0.8, 0.85, 0.9, 0.92, 0.95],\n",
        "            'val_loss': [0.6, 0.55, 0.45, 0.35, 0.25],\n",
        "            'val_accuracy': [0.75, 0.8, 0.88, 0.9, 0.93]\n",
        "        }\n",
        "\n",
        "history = DummyHistory()\n",
        "\n",
        "\n",
        "# Plot training & validation accuracy values\n",
        "plt.figure(figsize=(12, 4))\n",
        "plt.subplot(1, 2, 1)\n",
        "plt.plot(history.history['accuracy'])\n",
        "plt.plot(history.history['val_accuracy'])\n",
        "plt.title('Model accuracy')\n",
        "plt.ylabel('Accuracy')\n",
        "plt.xlabel('Epoch')\n",
        "plt.legend(['Train', 'Test'], loc='upper left')\n",
        "\n",
        "# Plot training & validation loss values\n",
        "plt.subplot(1, 2, 2)\n",
        "plt.plot(history.history['loss'])\n",
        "plt.plot(history.history['val_loss'])\n",
        "plt.title('Model loss')\n",
        "plt.ylabel('Loss')\n",
        "plt.xlabel('Epoch')\n",
        "plt.legend(['Train', 'Test'], loc='upper left')\n",
        "\n",
        "plt.show()\n"
      ],
      "metadata": {
        "colab": {
          "base_uri": "https://localhost:8080/",
          "height": 410
        },
        "id": "tXZGPyZWCENC",
        "outputId": "adbcdefa-f753-4202-a28e-4f6b5e510bd4"
      },
      "execution_count": 15,
      "outputs": [
        {
          "output_type": "display_data",
          "data": {
            "text/plain": [
              "<Figure size 1200x400 with 2 Axes>"
            ],
            "image/png": "[encoded data removed]"
          },
          "metadata": {}
        }
      ]
    },
    {
      "cell_type": "code",
      "metadata": {
        "colab": {
          "base_uri": "https://localhost:8080/"
        },
        "id": "0e7cce13",
        "outputId": "873e7a08-15e9-4323-b888-55dcebef89fb"
      },
      "source": [
        "#5. How do you install PyTorch and verify the PyTorch installation?\n",
        "#!pip install torch\n",
        "import torch\n",
        "print(torch.__version__)\n"
      ],
      "execution_count": 2,
      "outputs": [
        {
          "output_type": "stream",
          "name": "stdout",
          "text": [
            "2.6.0+cu124\n"
          ]
        }
      ]
    },
    {
      "cell_type": "code",
      "source": [
        "#6. How do you create a simple neural network in PyTorch?\n",
        "import torch.nn.modules as nn\n",
        "import torch.optim as optim\n",
        "# Define the neural network model\n",
        "class SimpleNet(nn.Module):\n",
        "    def __init__(self):\n",
        "      super(SimpleNet,self).__init__()\n",
        "      self.fc1 = nn.Linear(784,128)\n",
        "      self.fc2 = nn.Linear(128,10)\n",
        "      self.relu = nn.ReLU()\n",
        "    def forward(self,x):\n",
        "      x = self.fc1(x)\n",
        "      x = self.relu(x)\n",
        "      x = self.fc2(x)\n",
        "      return x\n",
        "\n"
      ],
      "metadata": {
        "id": "LiC_WOnCC6FJ"
      },
      "execution_count": 5,
      "outputs": []
    },
    {
      "cell_type": "code",
      "source": [
        "#7.How do you define a loss function and optimizer in PyTorch?\n",
        "import torch.nn.modules as nn\n",
        "import torch.optim as optim\n",
        "\n",
        "model = SimpleNet()\n",
        "criterion = nn.CrossEntropyLoss()\n",
        "optimizer = optim.Adam(model.parameters(), lr=0.001)\n",
        "\n",
        "print(\"Loss function defined:\", criterion)\n",
        "print(\"Optimizer defined:\", optimizer)"
      ],
      "metadata": {
        "colab": {
          "base_uri": "https://localhost:8080/"
        },
        "id": "aoKXzcVbEN5k",
        "outputId": "baa2485c-4041-475b-a76e-fff060a9fe56"
      },
      "execution_count": 6,
      "outputs": [
        {
          "output_type": "stream",
          "name": "stdout",
          "text": [
            "Loss function defined: CrossEntropyLoss()\n",
            "Optimizer defined: Adam (\n",
            "Parameter Group 0\n",
            "    amsgrad: False\n",
            "    betas: (0.9, 0.999)\n",
            "    capturable: False\n",
            "    differentiable: False\n",
            "    eps: 1e-08\n",
            "    foreach: None\n",
            "    fused: None\n",
            "    lr: 0.001\n",
            "    maximize: False\n",
            "    weight_decay: 0\n",
            ")\n"
          ]
        }
      ]
    },
    {
      "cell_type": "code",
      "source": [
        "#8.How do you implement a custom loss function in PyTorch?\n",
        "import torch\n",
        "import torch.nn as nn\n",
        "\n",
        "# Example of a simple custom loss function (Mean Squared Error)\n",
        "class CustomMSELoss(nn.Module):\n",
        "    def __init__(self):\n",
        "        super(CustomMSELoss,self).__init__()\n",
        "\n",
        "    def forward(self,predictions,targets):\n",
        "        loss = torch.mean((predictions - targets)**2)\n",
        "        return loss\n",
        "\n",
        "prediction = torch.randn(10,1)\n",
        "targets = torch.randn(10,1)\n",
        "custom_loss_fn = CustomMSELoss()\n",
        "loss = custom_loss_fn(prediction,targets)\n",
        "print(\"Custom MSE Loss:\",loss)\n"
      ],
      "metadata": {
        "colab": {
          "base_uri": "https://localhost:8080/"
        },
        "id": "dCxK9HJQECV-",
        "outputId": "d85cdde0-1e19-4f52-b904-63cc233d3fe6"
      },
      "execution_count": 7,
      "outputs": [
        {
          "output_type": "stream",
          "name": "stdout",
          "text": [
            "Custom MSE Loss: tensor(3.0715)\n"
          ]
        }
      ]
    },
    {
      "cell_type": "code",
      "source": [
        "#9.How do you save and load a TensorFlow model?\n",
        "model.save('my_model')\n",
        "print(\"model saved successfully.\")\n",
        "\n",
        "\n",
        "loded_model = tf.keras.modelss.load_model('my_model')\n",
        "print(\"model loaded successfully.\")"
      ],
      "metadata": {
        "id": "9tKx9fDSGNfA"
      },
      "execution_count": null,
      "outputs": []
    }
  ]
}